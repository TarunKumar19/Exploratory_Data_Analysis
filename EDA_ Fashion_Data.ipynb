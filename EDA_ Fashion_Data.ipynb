{
 "cells": [
  {
   "cell_type": "code",
   "execution_count": 32,
   "id": "4a2aff0f",
   "metadata": {},
   "outputs": [],
   "source": [
    "import os\n",
    "import numpy as np\n",
    "import pandas as pd\n",
    "import seaborn as sns\n",
    "import matplotlib.pyplot as plt\n",
    "%matplotlib inline\n",
    "import warnings\n",
    "warnings.filterwarnings('ignore')\n",
    "import sklearn"
   ]
  },
  {
   "cell_type": "code",
   "execution_count": 49,
   "id": "4d411d84",
   "metadata": {},
   "outputs": [
    {
     "data": {
      "text/html": [
       "<div>\n",
       "<style scoped>\n",
       "    .dataframe tbody tr th:only-of-type {\n",
       "        vertical-align: middle;\n",
       "    }\n",
       "\n",
       "    .dataframe tbody tr th {\n",
       "        vertical-align: top;\n",
       "    }\n",
       "\n",
       "    .dataframe thead th {\n",
       "        text-align: right;\n",
       "    }\n",
       "</style>\n",
       "<table border=\"1\" class=\"dataframe\">\n",
       "  <thead>\n",
       "    <tr style=\"text-align: right;\">\n",
       "      <th></th>\n",
       "      <th>Unnamed: 0</th>\n",
       "      <th>BrandName</th>\n",
       "      <th>Deatils</th>\n",
       "      <th>Sizes</th>\n",
       "      <th>MRP</th>\n",
       "      <th>SellPrice</th>\n",
       "      <th>Discount</th>\n",
       "      <th>Category</th>\n",
       "    </tr>\n",
       "  </thead>\n",
       "  <tbody>\n",
       "    <tr>\n",
       "      <th>0</th>\n",
       "      <td>0</td>\n",
       "      <td>life</td>\n",
       "      <td>solid cotton blend collar neck womens a-line d...</td>\n",
       "      <td>Size:Large,Medium,Small,X-Large,X-Small</td>\n",
       "      <td>Rs\\n1699</td>\n",
       "      <td>849</td>\n",
       "      <td>50% off</td>\n",
       "      <td>Westernwear-Women</td>\n",
       "    </tr>\n",
       "    <tr>\n",
       "      <th>1</th>\n",
       "      <td>1</td>\n",
       "      <td>only</td>\n",
       "      <td>polyester peter pan collar womens blouson dres...</td>\n",
       "      <td>Size:34,36,38,40</td>\n",
       "      <td>Rs\\n3499</td>\n",
       "      <td>2449</td>\n",
       "      <td>30% off</td>\n",
       "      <td>Westernwear-Women</td>\n",
       "    </tr>\n",
       "    <tr>\n",
       "      <th>2</th>\n",
       "      <td>2</td>\n",
       "      <td>fratini</td>\n",
       "      <td>solid polyester blend wide neck womens regular...</td>\n",
       "      <td>Size:Large,X-Large,XX-Large</td>\n",
       "      <td>Rs\\n1199</td>\n",
       "      <td>599</td>\n",
       "      <td>50% off</td>\n",
       "      <td>Westernwear-Women</td>\n",
       "    </tr>\n",
       "    <tr>\n",
       "      <th>3</th>\n",
       "      <td>3</td>\n",
       "      <td>zink london</td>\n",
       "      <td>stripes polyester sweetheart neck womens dress...</td>\n",
       "      <td>Size:Large,Medium,Small,X-Large</td>\n",
       "      <td>Rs\\n2299</td>\n",
       "      <td>1379</td>\n",
       "      <td>40% off</td>\n",
       "      <td>Westernwear-Women</td>\n",
       "    </tr>\n",
       "    <tr>\n",
       "      <th>4</th>\n",
       "      <td>4</td>\n",
       "      <td>life</td>\n",
       "      <td>regular fit regular length denim womens jeans ...</td>\n",
       "      <td>Size:26,28,30,32,34,36</td>\n",
       "      <td>Rs\\n1699</td>\n",
       "      <td>849</td>\n",
       "      <td>50% off</td>\n",
       "      <td>Westernwear-Women</td>\n",
       "    </tr>\n",
       "  </tbody>\n",
       "</table>\n",
       "</div>"
      ],
      "text/plain": [
       "   Unnamed: 0    BrandName                                            Deatils  \\\n",
       "0           0         life  solid cotton blend collar neck womens a-line d...   \n",
       "1           1         only  polyester peter pan collar womens blouson dres...   \n",
       "2           2      fratini  solid polyester blend wide neck womens regular...   \n",
       "3           3  zink london  stripes polyester sweetheart neck womens dress...   \n",
       "4           4         life  regular fit regular length denim womens jeans ...   \n",
       "\n",
       "                                     Sizes       MRP SellPrice Discount  \\\n",
       "0  Size:Large,Medium,Small,X-Large,X-Small  Rs\\n1699       849  50% off   \n",
       "1                         Size:34,36,38,40  Rs\\n3499      2449  30% off   \n",
       "2              Size:Large,X-Large,XX-Large  Rs\\n1199       599  50% off   \n",
       "3          Size:Large,Medium,Small,X-Large  Rs\\n2299      1379  40% off   \n",
       "4                   Size:26,28,30,32,34,36  Rs\\n1699       849  50% off   \n",
       "\n",
       "            Category  \n",
       "0  Westernwear-Women  \n",
       "1  Westernwear-Women  \n",
       "2  Westernwear-Women  \n",
       "3  Westernwear-Women  \n",
       "4  Westernwear-Women  "
      ]
     },
     "execution_count": 49,
     "metadata": {},
     "output_type": "execute_result"
    }
   ],
   "source": [
    "data=pd.read_csv('FashionDataset.csv')\n",
    "data.head()"
   ]
  },
  {
   "cell_type": "code",
   "execution_count": 50,
   "id": "151beef2",
   "metadata": {},
   "outputs": [
    {
     "data": {
      "text/plain": [
       "(30758, 8)"
      ]
     },
     "execution_count": 50,
     "metadata": {},
     "output_type": "execute_result"
    }
   ],
   "source": [
    "data.shape"
   ]
  },
  {
   "cell_type": "code",
   "execution_count": 51,
   "id": "eaf7fb8d",
   "metadata": {},
   "outputs": [
    {
     "name": "stdout",
     "output_type": "stream",
     "text": [
      "<class 'pandas.core.frame.DataFrame'>\n",
      "RangeIndex: 30758 entries, 0 to 30757\n",
      "Data columns (total 8 columns):\n",
      " #   Column      Non-Null Count  Dtype \n",
      "---  ------      --------------  ----- \n",
      " 0   Unnamed: 0  30758 non-null  int64 \n",
      " 1   BrandName   30758 non-null  object\n",
      " 2   Deatils     30758 non-null  object\n",
      " 3   Sizes       30758 non-null  object\n",
      " 4   MRP         30758 non-null  object\n",
      " 5   SellPrice   30758 non-null  object\n",
      " 6   Discount    30758 non-null  object\n",
      " 7   Category    30758 non-null  object\n",
      "dtypes: int64(1), object(7)\n",
      "memory usage: 1.9+ MB\n"
     ]
    }
   ],
   "source": [
    "data.info()"
   ]
  },
  {
   "cell_type": "markdown",
   "id": "c758c164",
   "metadata": {},
   "source": [
    "## Data cleaning process"
   ]
  },
  {
   "cell_type": "code",
   "execution_count": 52,
   "id": "048aba07",
   "metadata": {},
   "outputs": [
    {
     "data": {
      "text/plain": [
       "Index(['Unnamed: 0', 'BrandName', 'Deatils', 'Sizes', 'MRP', 'SellPrice',\n",
       "       'Discount', 'Category'],\n",
       "      dtype='object')"
      ]
     },
     "execution_count": 52,
     "metadata": {},
     "output_type": "execute_result"
    }
   ],
   "source": [
    "data.columns"
   ]
  },
  {
   "cell_type": "markdown",
   "id": "b4effe34",
   "metadata": {},
   "source": [
    "### Let's see what all we can explore in this dataset\n",
    "1. Which brand is most costly / affordable to the customer?\n",
    "\n",
    "2. Which category has maximum options in women wear\n",
    "\n",
    "3. How much Discount does each brand gives to it's customers?\n",
    "\n",
    "4. How many option in sizes do women have?"
   ]
  },
  {
   "cell_type": "code",
   "execution_count": 529,
   "id": "786f875e",
   "metadata": {},
   "outputs": [
    {
     "data": {
      "text/html": [
       "<div>\n",
       "<style scoped>\n",
       "    .dataframe tbody tr th:only-of-type {\n",
       "        vertical-align: middle;\n",
       "    }\n",
       "\n",
       "    .dataframe tbody tr th {\n",
       "        vertical-align: top;\n",
       "    }\n",
       "\n",
       "    .dataframe thead th {\n",
       "        text-align: right;\n",
       "    }\n",
       "</style>\n",
       "<table border=\"1\" class=\"dataframe\">\n",
       "  <thead>\n",
       "    <tr style=\"text-align: right;\">\n",
       "      <th></th>\n",
       "      <th>BrandName</th>\n",
       "      <th>Details</th>\n",
       "      <th>Sizes</th>\n",
       "      <th>MRP</th>\n",
       "      <th>SellPrice</th>\n",
       "      <th>Discount</th>\n",
       "      <th>Category</th>\n",
       "    </tr>\n",
       "  </thead>\n",
       "  <tbody>\n",
       "    <tr>\n",
       "      <th>0</th>\n",
       "      <td>life</td>\n",
       "      <td>solid cotton blend collar neck womens a-line d...</td>\n",
       "      <td>Large,Medium,Small,X-Large,X-Small</td>\n",
       "      <td>1699</td>\n",
       "      <td>849</td>\n",
       "      <td>50</td>\n",
       "      <td>Westernwear-Women</td>\n",
       "    </tr>\n",
       "    <tr>\n",
       "      <th>1</th>\n",
       "      <td>only</td>\n",
       "      <td>polyester peter pan collar womens blouson dres...</td>\n",
       "      <td>34,36,38,40</td>\n",
       "      <td>3499</td>\n",
       "      <td>2449</td>\n",
       "      <td>30</td>\n",
       "      <td>Westernwear-Women</td>\n",
       "    </tr>\n",
       "    <tr>\n",
       "      <th>2</th>\n",
       "      <td>fratini</td>\n",
       "      <td>solid polyester blend wide neck womens regular...</td>\n",
       "      <td>Large,X-Large,XX-Large</td>\n",
       "      <td>1199</td>\n",
       "      <td>599</td>\n",
       "      <td>50</td>\n",
       "      <td>Westernwear-Women</td>\n",
       "    </tr>\n",
       "    <tr>\n",
       "      <th>3</th>\n",
       "      <td>zink london</td>\n",
       "      <td>stripes polyester sweetheart neck womens dress...</td>\n",
       "      <td>Large,Medium,Small,X-Large</td>\n",
       "      <td>2299</td>\n",
       "      <td>1379</td>\n",
       "      <td>40</td>\n",
       "      <td>Westernwear-Women</td>\n",
       "    </tr>\n",
       "    <tr>\n",
       "      <th>4</th>\n",
       "      <td>life</td>\n",
       "      <td>regular fit regular length denim womens jeans ...</td>\n",
       "      <td>26,28,30,32,34,36</td>\n",
       "      <td>1699</td>\n",
       "      <td>849</td>\n",
       "      <td>50</td>\n",
       "      <td>Westernwear-Women</td>\n",
       "    </tr>\n",
       "    <tr>\n",
       "      <th>...</th>\n",
       "      <td>...</td>\n",
       "      <td>...</td>\n",
       "      <td>...</td>\n",
       "      <td>...</td>\n",
       "      <td>...</td>\n",
       "      <td>...</td>\n",
       "      <td>...</td>\n",
       "    </tr>\n",
       "    <tr>\n",
       "      <th>26673</th>\n",
       "      <td>lemon &amp; pepper</td>\n",
       "      <td>womens casual wear buckle closure flats - navy</td>\n",
       "      <td>36,37,38,39,40</td>\n",
       "      <td>2999</td>\n",
       "      <td>1499</td>\n",
       "      <td>50</td>\n",
       "      <td>Footwear-Women</td>\n",
       "    </tr>\n",
       "    <tr>\n",
       "      <th>26674</th>\n",
       "      <td>haute curry</td>\n",
       "      <td>womens casual wear slip on heels - black</td>\n",
       "      <td>36,37,38,39,40</td>\n",
       "      <td>2199</td>\n",
       "      <td>1099</td>\n",
       "      <td>50</td>\n",
       "      <td>Footwear-Women</td>\n",
       "    </tr>\n",
       "    <tr>\n",
       "      <th>26885</th>\n",
       "      <td>swiss eagle</td>\n",
       "      <td>womens analogue metallic watch</td>\n",
       "      <td>Error Size</td>\n",
       "      <td>13990</td>\n",
       "      <td>4197</td>\n",
       "      <td>70</td>\n",
       "      <td>Watches-Women</td>\n",
       "    </tr>\n",
       "    <tr>\n",
       "      <th>27290</th>\n",
       "      <td>lawman watches</td>\n",
       "      <td>womens rose gold dial stainless steel analogue...</td>\n",
       "      <td>Error Size</td>\n",
       "      <td>7499</td>\n",
       "      <td>4999</td>\n",
       "      <td>33</td>\n",
       "      <td>Watches-Women</td>\n",
       "    </tr>\n",
       "    <tr>\n",
       "      <th>28418</th>\n",
       "      <td>lawman watches</td>\n",
       "      <td>womens silver dial stainless steel analogue wa...</td>\n",
       "      <td>Error Size</td>\n",
       "      <td>5999</td>\n",
       "      <td>3999</td>\n",
       "      <td>33</td>\n",
       "      <td>Watches-Women</td>\n",
       "    </tr>\n",
       "  </tbody>\n",
       "</table>\n",
       "<p>17931 rows × 7 columns</p>\n",
       "</div>"
      ],
      "text/plain": [
       "            BrandName                                            Details  \\\n",
       "0                life  solid cotton blend collar neck womens a-line d...   \n",
       "1                only  polyester peter pan collar womens blouson dres...   \n",
       "2             fratini  solid polyester blend wide neck womens regular...   \n",
       "3         zink london  stripes polyester sweetheart neck womens dress...   \n",
       "4                life  regular fit regular length denim womens jeans ...   \n",
       "...               ...                                                ...   \n",
       "26673  lemon & pepper     womens casual wear buckle closure flats - navy   \n",
       "26674     haute curry           womens casual wear slip on heels - black   \n",
       "26885     swiss eagle                     womens analogue metallic watch   \n",
       "27290  lawman watches  womens rose gold dial stainless steel analogue...   \n",
       "28418  lawman watches  womens silver dial stainless steel analogue wa...   \n",
       "\n",
       "                                     Sizes    MRP  SellPrice  Discount  \\\n",
       "0       Large,Medium,Small,X-Large,X-Small   1699        849        50   \n",
       "1                              34,36,38,40   3499       2449        30   \n",
       "2                   Large,X-Large,XX-Large   1199        599        50   \n",
       "3               Large,Medium,Small,X-Large   2299       1379        40   \n",
       "4                        26,28,30,32,34,36   1699        849        50   \n",
       "...                                    ...    ...        ...       ...   \n",
       "26673                       36,37,38,39,40   2999       1499        50   \n",
       "26674                       36,37,38,39,40   2199       1099        50   \n",
       "26885                           Error Size  13990       4197        70   \n",
       "27290                           Error Size   7499       4999        33   \n",
       "28418                           Error Size   5999       3999        33   \n",
       "\n",
       "                Category  \n",
       "0      Westernwear-Women  \n",
       "1      Westernwear-Women  \n",
       "2      Westernwear-Women  \n",
       "3      Westernwear-Women  \n",
       "4      Westernwear-Women  \n",
       "...                  ...  \n",
       "26673     Footwear-Women  \n",
       "26674     Footwear-Women  \n",
       "26885      Watches-Women  \n",
       "27290      Watches-Women  \n",
       "28418      Watches-Women  \n",
       "\n",
       "[17931 rows x 7 columns]"
      ]
     },
     "execution_count": 529,
     "metadata": {},
     "output_type": "execute_result"
    }
   ],
   "source": [
    "data.rename(columns={'Deatils':'Details'})"
   ]
  },
  {
   "cell_type": "code",
   "execution_count": 53,
   "id": "d21ff7cf",
   "metadata": {},
   "outputs": [
    {
     "data": {
      "text/plain": [
       "Unnamed: 0    False\n",
       "BrandName     False\n",
       "Deatils       False\n",
       "Sizes         False\n",
       "MRP           False\n",
       "SellPrice     False\n",
       "Discount      False\n",
       "Category      False\n",
       "dtype: bool"
      ]
     },
     "execution_count": 53,
     "metadata": {},
     "output_type": "execute_result"
    }
   ],
   "source": [
    "data.isna().any()"
   ]
  },
  {
   "cell_type": "markdown",
   "id": "2b7200a6",
   "metadata": {},
   "source": [
    "### There is no null values in dataset"
   ]
  },
  {
   "cell_type": "code",
   "execution_count": null,
   "id": "ca8aa2b1",
   "metadata": {},
   "outputs": [],
   "source": []
  },
  {
   "cell_type": "markdown",
   "id": "9da5b8af",
   "metadata": {},
   "source": [
    "### Before we move further, Let's drop or replace few features that we feel won't contribute much to our analysis - such as\n",
    "Unnamed column\n",
    "\n",
    "'Rs\\n' from the MRP column\n",
    "\n",
    "'Size:' from Sizes column\n",
    "\n",
    "Converting all prices into integer type."
   ]
  },
  {
   "cell_type": "code",
   "execution_count": null,
   "id": "bd5bce54",
   "metadata": {},
   "outputs": [],
   "source": []
  },
  {
   "cell_type": "code",
   "execution_count": 54,
   "id": "82c87af0",
   "metadata": {},
   "outputs": [],
   "source": [
    "df=data"
   ]
  },
  {
   "cell_type": "code",
   "execution_count": 55,
   "id": "0012a66e",
   "metadata": {},
   "outputs": [
    {
     "data": {
      "text/html": [
       "<div>\n",
       "<style scoped>\n",
       "    .dataframe tbody tr th:only-of-type {\n",
       "        vertical-align: middle;\n",
       "    }\n",
       "\n",
       "    .dataframe tbody tr th {\n",
       "        vertical-align: top;\n",
       "    }\n",
       "\n",
       "    .dataframe thead th {\n",
       "        text-align: right;\n",
       "    }\n",
       "</style>\n",
       "<table border=\"1\" class=\"dataframe\">\n",
       "  <thead>\n",
       "    <tr style=\"text-align: right;\">\n",
       "      <th></th>\n",
       "      <th>Unnamed: 0</th>\n",
       "      <th>BrandName</th>\n",
       "      <th>Deatils</th>\n",
       "      <th>Sizes</th>\n",
       "      <th>MRP</th>\n",
       "      <th>SellPrice</th>\n",
       "      <th>Discount</th>\n",
       "      <th>Category</th>\n",
       "    </tr>\n",
       "  </thead>\n",
       "  <tbody>\n",
       "    <tr>\n",
       "      <th>0</th>\n",
       "      <td>0</td>\n",
       "      <td>life</td>\n",
       "      <td>solid cotton blend collar neck womens a-line d...</td>\n",
       "      <td>Size:Large,Medium,Small,X-Large,X-Small</td>\n",
       "      <td>Rs\\n1699</td>\n",
       "      <td>849</td>\n",
       "      <td>50% off</td>\n",
       "      <td>Westernwear-Women</td>\n",
       "    </tr>\n",
       "    <tr>\n",
       "      <th>1</th>\n",
       "      <td>1</td>\n",
       "      <td>only</td>\n",
       "      <td>polyester peter pan collar womens blouson dres...</td>\n",
       "      <td>Size:34,36,38,40</td>\n",
       "      <td>Rs\\n3499</td>\n",
       "      <td>2449</td>\n",
       "      <td>30% off</td>\n",
       "      <td>Westernwear-Women</td>\n",
       "    </tr>\n",
       "    <tr>\n",
       "      <th>2</th>\n",
       "      <td>2</td>\n",
       "      <td>fratini</td>\n",
       "      <td>solid polyester blend wide neck womens regular...</td>\n",
       "      <td>Size:Large,X-Large,XX-Large</td>\n",
       "      <td>Rs\\n1199</td>\n",
       "      <td>599</td>\n",
       "      <td>50% off</td>\n",
       "      <td>Westernwear-Women</td>\n",
       "    </tr>\n",
       "    <tr>\n",
       "      <th>3</th>\n",
       "      <td>3</td>\n",
       "      <td>zink london</td>\n",
       "      <td>stripes polyester sweetheart neck womens dress...</td>\n",
       "      <td>Size:Large,Medium,Small,X-Large</td>\n",
       "      <td>Rs\\n2299</td>\n",
       "      <td>1379</td>\n",
       "      <td>40% off</td>\n",
       "      <td>Westernwear-Women</td>\n",
       "    </tr>\n",
       "    <tr>\n",
       "      <th>4</th>\n",
       "      <td>4</td>\n",
       "      <td>life</td>\n",
       "      <td>regular fit regular length denim womens jeans ...</td>\n",
       "      <td>Size:26,28,30,32,34,36</td>\n",
       "      <td>Rs\\n1699</td>\n",
       "      <td>849</td>\n",
       "      <td>50% off</td>\n",
       "      <td>Westernwear-Women</td>\n",
       "    </tr>\n",
       "  </tbody>\n",
       "</table>\n",
       "</div>"
      ],
      "text/plain": [
       "   Unnamed: 0    BrandName                                            Deatils  \\\n",
       "0           0         life  solid cotton blend collar neck womens a-line d...   \n",
       "1           1         only  polyester peter pan collar womens blouson dres...   \n",
       "2           2      fratini  solid polyester blend wide neck womens regular...   \n",
       "3           3  zink london  stripes polyester sweetheart neck womens dress...   \n",
       "4           4         life  regular fit regular length denim womens jeans ...   \n",
       "\n",
       "                                     Sizes       MRP SellPrice Discount  \\\n",
       "0  Size:Large,Medium,Small,X-Large,X-Small  Rs\\n1699       849  50% off   \n",
       "1                         Size:34,36,38,40  Rs\\n3499      2449  30% off   \n",
       "2              Size:Large,X-Large,XX-Large  Rs\\n1199       599  50% off   \n",
       "3          Size:Large,Medium,Small,X-Large  Rs\\n2299      1379  40% off   \n",
       "4                   Size:26,28,30,32,34,36  Rs\\n1699       849  50% off   \n",
       "\n",
       "            Category  \n",
       "0  Westernwear-Women  \n",
       "1  Westernwear-Women  \n",
       "2  Westernwear-Women  \n",
       "3  Westernwear-Women  \n",
       "4  Westernwear-Women  "
      ]
     },
     "execution_count": 55,
     "metadata": {},
     "output_type": "execute_result"
    }
   ],
   "source": [
    "df.head()"
   ]
  },
  {
   "cell_type": "code",
   "execution_count": 56,
   "id": "01d9a9e6",
   "metadata": {
    "scrolled": true
   },
   "outputs": [
    {
     "data": {
      "text/plain": [
       "array(['Size:Large,Medium,Small,X-Large,X-Small', 'Size:34,36,38,40',\n",
       "       'Size:Large,X-Large,XX-Large', ..., 'Size:3,8', 'Size:36,41',\n",
       "       'Size:4,4.5,8.5'], dtype=object)"
      ]
     },
     "execution_count": 56,
     "metadata": {},
     "output_type": "execute_result"
    }
   ],
   "source": [
    "df.Sizes.unique()"
   ]
  },
  {
   "cell_type": "code",
   "execution_count": 57,
   "id": "95ee58ad",
   "metadata": {},
   "outputs": [],
   "source": [
    "df.drop('Unnamed: 0',axis=1 ,inplace = True)"
   ]
  },
  {
   "cell_type": "code",
   "execution_count": 447,
   "id": "f616680b",
   "metadata": {},
   "outputs": [],
   "source": [
    "df.replace('Nan',np.nan,inplace = True)"
   ]
  },
  {
   "cell_type": "code",
   "execution_count": 448,
   "id": "b205aa89",
   "metadata": {},
   "outputs": [],
   "source": [
    "df.dropna(axis=0,inplace=True)"
   ]
  },
  {
   "cell_type": "code",
   "execution_count": 67,
   "id": "56b036e7",
   "metadata": {},
   "outputs": [],
   "source": [
    "df['Sizes']=df['Sizes'].str.replace('Size:',' ')"
   ]
  },
  {
   "cell_type": "code",
   "execution_count": 451,
   "id": "01bf744b",
   "metadata": {},
   "outputs": [],
   "source": [
    "df['Discount']=df['Discount'].str.replace('% off','')"
   ]
  },
  {
   "cell_type": "code",
   "execution_count": 452,
   "id": "2cec2a55",
   "metadata": {
    "collapsed": true
   },
   "outputs": [
    {
     "ename": "AttributeError",
     "evalue": "Can only use .str accessor with string values!",
     "output_type": "error",
     "traceback": [
      "\u001b[1;31m---------------------------------------------------------------------------\u001b[0m",
      "\u001b[1;31mAttributeError\u001b[0m                            Traceback (most recent call last)",
      "Input \u001b[1;32mIn [452]\u001b[0m, in \u001b[0;36m<cell line: 1>\u001b[1;34m()\u001b[0m\n\u001b[1;32m----> 1\u001b[0m df[\u001b[38;5;124m'\u001b[39m\u001b[38;5;124mMRP\u001b[39m\u001b[38;5;124m'\u001b[39m]\u001b[38;5;241m=\u001b[39m\u001b[43mdf\u001b[49m\u001b[43m[\u001b[49m\u001b[38;5;124;43m'\u001b[39;49m\u001b[38;5;124;43mMRP\u001b[39;49m\u001b[38;5;124;43m'\u001b[39;49m\u001b[43m]\u001b[49m\u001b[38;5;241;43m.\u001b[39;49m\u001b[43mstr\u001b[49m\u001b[38;5;241m.\u001b[39mreplace(\u001b[38;5;124m'\u001b[39m\u001b[38;5;124mRs\u001b[39m\u001b[38;5;130;01m\\n\u001b[39;00m\u001b[38;5;124m'\u001b[39m,\u001b[38;5;124m'\u001b[39m\u001b[38;5;124m'\u001b[39m)\n",
      "File \u001b[1;32m~\\anaconda3\\lib\\site-packages\\pandas\\core\\generic.py:5575\u001b[0m, in \u001b[0;36mNDFrame.__getattr__\u001b[1;34m(self, name)\u001b[0m\n\u001b[0;32m   5568\u001b[0m \u001b[38;5;28;01mif\u001b[39;00m (\n\u001b[0;32m   5569\u001b[0m     name \u001b[38;5;129;01mnot\u001b[39;00m \u001b[38;5;129;01min\u001b[39;00m \u001b[38;5;28mself\u001b[39m\u001b[38;5;241m.\u001b[39m_internal_names_set\n\u001b[0;32m   5570\u001b[0m     \u001b[38;5;129;01mand\u001b[39;00m name \u001b[38;5;129;01mnot\u001b[39;00m \u001b[38;5;129;01min\u001b[39;00m \u001b[38;5;28mself\u001b[39m\u001b[38;5;241m.\u001b[39m_metadata\n\u001b[0;32m   5571\u001b[0m     \u001b[38;5;129;01mand\u001b[39;00m name \u001b[38;5;129;01mnot\u001b[39;00m \u001b[38;5;129;01min\u001b[39;00m \u001b[38;5;28mself\u001b[39m\u001b[38;5;241m.\u001b[39m_accessors\n\u001b[0;32m   5572\u001b[0m     \u001b[38;5;129;01mand\u001b[39;00m \u001b[38;5;28mself\u001b[39m\u001b[38;5;241m.\u001b[39m_info_axis\u001b[38;5;241m.\u001b[39m_can_hold_identifiers_and_holds_name(name)\n\u001b[0;32m   5573\u001b[0m ):\n\u001b[0;32m   5574\u001b[0m     \u001b[38;5;28;01mreturn\u001b[39;00m \u001b[38;5;28mself\u001b[39m[name]\n\u001b[1;32m-> 5575\u001b[0m \u001b[38;5;28;01mreturn\u001b[39;00m \u001b[38;5;28;43mobject\u001b[39;49m\u001b[38;5;241;43m.\u001b[39;49m\u001b[38;5;21;43m__getattribute__\u001b[39;49m\u001b[43m(\u001b[49m\u001b[38;5;28;43mself\u001b[39;49m\u001b[43m,\u001b[49m\u001b[43m \u001b[49m\u001b[43mname\u001b[49m\u001b[43m)\u001b[49m\n",
      "File \u001b[1;32m~\\anaconda3\\lib\\site-packages\\pandas\\core\\accessor.py:182\u001b[0m, in \u001b[0;36mCachedAccessor.__get__\u001b[1;34m(self, obj, cls)\u001b[0m\n\u001b[0;32m    179\u001b[0m \u001b[38;5;28;01mif\u001b[39;00m obj \u001b[38;5;129;01mis\u001b[39;00m \u001b[38;5;28;01mNone\u001b[39;00m:\n\u001b[0;32m    180\u001b[0m     \u001b[38;5;66;03m# we're accessing the attribute of the class, i.e., Dataset.geo\u001b[39;00m\n\u001b[0;32m    181\u001b[0m     \u001b[38;5;28;01mreturn\u001b[39;00m \u001b[38;5;28mself\u001b[39m\u001b[38;5;241m.\u001b[39m_accessor\n\u001b[1;32m--> 182\u001b[0m accessor_obj \u001b[38;5;241m=\u001b[39m \u001b[38;5;28;43mself\u001b[39;49m\u001b[38;5;241;43m.\u001b[39;49m\u001b[43m_accessor\u001b[49m\u001b[43m(\u001b[49m\u001b[43mobj\u001b[49m\u001b[43m)\u001b[49m\n\u001b[0;32m    183\u001b[0m \u001b[38;5;66;03m# Replace the property with the accessor object. Inspired by:\u001b[39;00m\n\u001b[0;32m    184\u001b[0m \u001b[38;5;66;03m# https://www.pydanny.com/cached-property.html\u001b[39;00m\n\u001b[0;32m    185\u001b[0m \u001b[38;5;66;03m# We need to use object.__setattr__ because we overwrite __setattr__ on\u001b[39;00m\n\u001b[0;32m    186\u001b[0m \u001b[38;5;66;03m# NDFrame\u001b[39;00m\n\u001b[0;32m    187\u001b[0m \u001b[38;5;28mobject\u001b[39m\u001b[38;5;241m.\u001b[39m\u001b[38;5;21m__setattr__\u001b[39m(obj, \u001b[38;5;28mself\u001b[39m\u001b[38;5;241m.\u001b[39m_name, accessor_obj)\n",
      "File \u001b[1;32m~\\anaconda3\\lib\\site-packages\\pandas\\core\\strings\\accessor.py:177\u001b[0m, in \u001b[0;36mStringMethods.__init__\u001b[1;34m(self, data)\u001b[0m\n\u001b[0;32m    174\u001b[0m \u001b[38;5;28;01mdef\u001b[39;00m \u001b[38;5;21m__init__\u001b[39m(\u001b[38;5;28mself\u001b[39m, data):\n\u001b[0;32m    175\u001b[0m     \u001b[38;5;28;01mfrom\u001b[39;00m \u001b[38;5;21;01mpandas\u001b[39;00m\u001b[38;5;21;01m.\u001b[39;00m\u001b[38;5;21;01mcore\u001b[39;00m\u001b[38;5;21;01m.\u001b[39;00m\u001b[38;5;21;01marrays\u001b[39;00m\u001b[38;5;21;01m.\u001b[39;00m\u001b[38;5;21;01mstring_\u001b[39;00m \u001b[38;5;28;01mimport\u001b[39;00m StringDtype\n\u001b[1;32m--> 177\u001b[0m     \u001b[38;5;28mself\u001b[39m\u001b[38;5;241m.\u001b[39m_inferred_dtype \u001b[38;5;241m=\u001b[39m \u001b[38;5;28;43mself\u001b[39;49m\u001b[38;5;241;43m.\u001b[39;49m\u001b[43m_validate\u001b[49m\u001b[43m(\u001b[49m\u001b[43mdata\u001b[49m\u001b[43m)\u001b[49m\n\u001b[0;32m    178\u001b[0m     \u001b[38;5;28mself\u001b[39m\u001b[38;5;241m.\u001b[39m_is_categorical \u001b[38;5;241m=\u001b[39m is_categorical_dtype(data\u001b[38;5;241m.\u001b[39mdtype)\n\u001b[0;32m    179\u001b[0m     \u001b[38;5;28mself\u001b[39m\u001b[38;5;241m.\u001b[39m_is_string \u001b[38;5;241m=\u001b[39m \u001b[38;5;28misinstance\u001b[39m(data\u001b[38;5;241m.\u001b[39mdtype, StringDtype)\n",
      "File \u001b[1;32m~\\anaconda3\\lib\\site-packages\\pandas\\core\\strings\\accessor.py:231\u001b[0m, in \u001b[0;36mStringMethods._validate\u001b[1;34m(data)\u001b[0m\n\u001b[0;32m    228\u001b[0m inferred_dtype \u001b[38;5;241m=\u001b[39m lib\u001b[38;5;241m.\u001b[39minfer_dtype(values, skipna\u001b[38;5;241m=\u001b[39m\u001b[38;5;28;01mTrue\u001b[39;00m)\n\u001b[0;32m    230\u001b[0m \u001b[38;5;28;01mif\u001b[39;00m inferred_dtype \u001b[38;5;129;01mnot\u001b[39;00m \u001b[38;5;129;01min\u001b[39;00m allowed_types:\n\u001b[1;32m--> 231\u001b[0m     \u001b[38;5;28;01mraise\u001b[39;00m \u001b[38;5;167;01mAttributeError\u001b[39;00m(\u001b[38;5;124m\"\u001b[39m\u001b[38;5;124mCan only use .str accessor with string values!\u001b[39m\u001b[38;5;124m\"\u001b[39m)\n\u001b[0;32m    232\u001b[0m \u001b[38;5;28;01mreturn\u001b[39;00m inferred_dtype\n",
      "\u001b[1;31mAttributeError\u001b[0m: Can only use .str accessor with string values!"
     ]
    }
   ],
   "source": [
    "df['MRP']=df['MRP'].str.replace('Rs\\n','')"
   ]
  },
  {
   "cell_type": "code",
   "execution_count": 70,
   "id": "45a4ee45",
   "metadata": {},
   "outputs": [],
   "source": [
    "df['SellPrice']=df['SellPrice'].astype(int)"
   ]
  },
  {
   "cell_type": "code",
   "execution_count": 453,
   "id": "bdd2c741",
   "metadata": {},
   "outputs": [],
   "source": [
    "df['Discount']=df['Discount'].astype(int)"
   ]
  },
  {
   "cell_type": "code",
   "execution_count": 71,
   "id": "1a6b8e4f",
   "metadata": {
    "scrolled": true
   },
   "outputs": [
    {
     "name": "stdout",
     "output_type": "stream",
     "text": [
      "<class 'pandas.core.frame.DataFrame'>\n",
      "Int64Index: 18374 entries, 0 to 28418\n",
      "Data columns (total 7 columns):\n",
      " #   Column     Non-Null Count  Dtype \n",
      "---  ------     --------------  ----- \n",
      " 0   BrandName  18374 non-null  object\n",
      " 1   Deatils    18374 non-null  object\n",
      " 2   Sizes      18374 non-null  object\n",
      " 3   MRP        18374 non-null  int32 \n",
      " 4   SellPrice  18374 non-null  int32 \n",
      " 5   Discount   18374 non-null  object\n",
      " 6   Category   18374 non-null  object\n",
      "dtypes: int32(2), object(5)\n",
      "memory usage: 1004.8+ KB\n"
     ]
    }
   ],
   "source": [
    "df.info()"
   ]
  },
  {
   "cell_type": "code",
   "execution_count": 72,
   "id": "8df4d6be",
   "metadata": {},
   "outputs": [
    {
     "data": {
      "text/html": [
       "<div>\n",
       "<style scoped>\n",
       "    .dataframe tbody tr th:only-of-type {\n",
       "        vertical-align: middle;\n",
       "    }\n",
       "\n",
       "    .dataframe tbody tr th {\n",
       "        vertical-align: top;\n",
       "    }\n",
       "\n",
       "    .dataframe thead th {\n",
       "        text-align: right;\n",
       "    }\n",
       "</style>\n",
       "<table border=\"1\" class=\"dataframe\">\n",
       "  <thead>\n",
       "    <tr style=\"text-align: right;\">\n",
       "      <th></th>\n",
       "      <th>BrandName</th>\n",
       "      <th>Deatils</th>\n",
       "      <th>Sizes</th>\n",
       "      <th>MRP</th>\n",
       "      <th>SellPrice</th>\n",
       "      <th>Discount</th>\n",
       "      <th>Category</th>\n",
       "    </tr>\n",
       "  </thead>\n",
       "  <tbody>\n",
       "    <tr>\n",
       "      <th>0</th>\n",
       "      <td>life</td>\n",
       "      <td>solid cotton blend collar neck womens a-line d...</td>\n",
       "      <td>Large,Medium,Small,X-Large,X-Small</td>\n",
       "      <td>1699</td>\n",
       "      <td>849</td>\n",
       "      <td>50% off</td>\n",
       "      <td>Westernwear-Women</td>\n",
       "    </tr>\n",
       "    <tr>\n",
       "      <th>1</th>\n",
       "      <td>only</td>\n",
       "      <td>polyester peter pan collar womens blouson dres...</td>\n",
       "      <td>34,36,38,40</td>\n",
       "      <td>3499</td>\n",
       "      <td>2449</td>\n",
       "      <td>30% off</td>\n",
       "      <td>Westernwear-Women</td>\n",
       "    </tr>\n",
       "    <tr>\n",
       "      <th>2</th>\n",
       "      <td>fratini</td>\n",
       "      <td>solid polyester blend wide neck womens regular...</td>\n",
       "      <td>Large,X-Large,XX-Large</td>\n",
       "      <td>1199</td>\n",
       "      <td>599</td>\n",
       "      <td>50% off</td>\n",
       "      <td>Westernwear-Women</td>\n",
       "    </tr>\n",
       "    <tr>\n",
       "      <th>3</th>\n",
       "      <td>zink london</td>\n",
       "      <td>stripes polyester sweetheart neck womens dress...</td>\n",
       "      <td>Large,Medium,Small,X-Large</td>\n",
       "      <td>2299</td>\n",
       "      <td>1379</td>\n",
       "      <td>40% off</td>\n",
       "      <td>Westernwear-Women</td>\n",
       "    </tr>\n",
       "    <tr>\n",
       "      <th>4</th>\n",
       "      <td>life</td>\n",
       "      <td>regular fit regular length denim womens jeans ...</td>\n",
       "      <td>26,28,30,32,34,36</td>\n",
       "      <td>1699</td>\n",
       "      <td>849</td>\n",
       "      <td>50% off</td>\n",
       "      <td>Westernwear-Women</td>\n",
       "    </tr>\n",
       "  </tbody>\n",
       "</table>\n",
       "</div>"
      ],
      "text/plain": [
       "     BrandName                                            Deatils  \\\n",
       "0         life  solid cotton blend collar neck womens a-line d...   \n",
       "1         only  polyester peter pan collar womens blouson dres...   \n",
       "2      fratini  solid polyester blend wide neck womens regular...   \n",
       "3  zink london  stripes polyester sweetheart neck womens dress...   \n",
       "4         life  regular fit regular length denim womens jeans ...   \n",
       "\n",
       "                                 Sizes   MRP  SellPrice Discount  \\\n",
       "0   Large,Medium,Small,X-Large,X-Small  1699        849  50% off   \n",
       "1                          34,36,38,40  3499       2449  30% off   \n",
       "2               Large,X-Large,XX-Large  1199        599  50% off   \n",
       "3           Large,Medium,Small,X-Large  2299       1379  40% off   \n",
       "4                    26,28,30,32,34,36  1699        849  50% off   \n",
       "\n",
       "            Category  \n",
       "0  Westernwear-Women  \n",
       "1  Westernwear-Women  \n",
       "2  Westernwear-Women  \n",
       "3  Westernwear-Women  \n",
       "4  Westernwear-Women  "
      ]
     },
     "execution_count": 72,
     "metadata": {},
     "output_type": "execute_result"
    }
   ],
   "source": [
    "df.head()"
   ]
  },
  {
   "cell_type": "markdown",
   "id": "6cd90ff4",
   "metadata": {},
   "source": [
    "### Which brand is most costly / affordable to the customer?"
   ]
  },
  {
   "cell_type": "code",
   "execution_count": null,
   "id": "e6a2f26e",
   "metadata": {},
   "outputs": [],
   "source": []
  },
  {
   "cell_type": "code",
   "execution_count": 83,
   "id": "a117f52d",
   "metadata": {
    "scrolled": true
   },
   "outputs": [
    {
     "data": {
      "text/html": [
       "<div>\n",
       "<style scoped>\n",
       "    .dataframe tbody tr th:only-of-type {\n",
       "        vertical-align: middle;\n",
       "    }\n",
       "\n",
       "    .dataframe tbody tr th {\n",
       "        vertical-align: top;\n",
       "    }\n",
       "\n",
       "    .dataframe thead th {\n",
       "        text-align: right;\n",
       "    }\n",
       "</style>\n",
       "<table border=\"1\" class=\"dataframe\">\n",
       "  <thead>\n",
       "    <tr style=\"text-align: right;\">\n",
       "      <th></th>\n",
       "      <th>BrandName</th>\n",
       "      <th>Deatils</th>\n",
       "      <th>Sizes</th>\n",
       "      <th>MRP</th>\n",
       "      <th>SellPrice</th>\n",
       "      <th>Discount</th>\n",
       "      <th>Category</th>\n",
       "    </tr>\n",
       "  </thead>\n",
       "  <tbody>\n",
       "    <tr>\n",
       "      <th>24</th>\n",
       "      <td>life</td>\n",
       "      <td>regular fit regular length denim womens jeans ...</td>\n",
       "      <td>26,28,30,32,34,36</td>\n",
       "      <td>1999</td>\n",
       "      <td>999</td>\n",
       "      <td>50% off</td>\n",
       "      <td>Westernwear-Women</td>\n",
       "    </tr>\n",
       "    <tr>\n",
       "      <th>148</th>\n",
       "      <td>life</td>\n",
       "      <td>printed cotton lycra round neck womens t-shirt...</td>\n",
       "      <td>Large,Medium,Small,X-Large,X-Small</td>\n",
       "      <td>699</td>\n",
       "      <td>349</td>\n",
       "      <td>50% off</td>\n",
       "      <td>Westernwear-Women</td>\n",
       "    </tr>\n",
       "    <tr>\n",
       "      <th>280</th>\n",
       "      <td>life</td>\n",
       "      <td>printed cotton lycra round neck womens t-shirt...</td>\n",
       "      <td>Large,Medium,Small,X-Large,X-Small</td>\n",
       "      <td>699</td>\n",
       "      <td>349</td>\n",
       "      <td>50% off</td>\n",
       "      <td>Westernwear-Women</td>\n",
       "    </tr>\n",
       "    <tr>\n",
       "      <th>356</th>\n",
       "      <td>life</td>\n",
       "      <td>skinny fit regular length cotton lycra womens ...</td>\n",
       "      <td>26,28,30,32,34,36</td>\n",
       "      <td>999</td>\n",
       "      <td>499</td>\n",
       "      <td>50% off</td>\n",
       "      <td>Westernwear-Women</td>\n",
       "    </tr>\n",
       "    <tr>\n",
       "      <th>533</th>\n",
       "      <td>life</td>\n",
       "      <td>embroidered cotton blend round neck womens top...</td>\n",
       "      <td>Large,Medium,Small,X-Large,X-Small</td>\n",
       "      <td>1299</td>\n",
       "      <td>649</td>\n",
       "      <td>50% off</td>\n",
       "      <td>Westernwear-Women</td>\n",
       "    </tr>\n",
       "    <tr>\n",
       "      <th>...</th>\n",
       "      <td>...</td>\n",
       "      <td>...</td>\n",
       "      <td>...</td>\n",
       "      <td>...</td>\n",
       "      <td>...</td>\n",
       "      <td>...</td>\n",
       "      <td>...</td>\n",
       "    </tr>\n",
       "    <tr>\n",
       "      <th>26391</th>\n",
       "      <td>shoetopia</td>\n",
       "      <td>synthetic womens casual sandals - gold</td>\n",
       "      <td>37,38,39,40,41</td>\n",
       "      <td>999</td>\n",
       "      <td>699</td>\n",
       "      <td>30% off</td>\n",
       "      <td>Footwear-Women</td>\n",
       "    </tr>\n",
       "    <tr>\n",
       "      <th>26405</th>\n",
       "      <td>catwalk</td>\n",
       "      <td>polyurethane slipon womens casual loafers - brown</td>\n",
       "      <td>5,6,7</td>\n",
       "      <td>2895</td>\n",
       "      <td>1447</td>\n",
       "      <td>50% off</td>\n",
       "      <td>Footwear-Women</td>\n",
       "    </tr>\n",
       "    <tr>\n",
       "      <th>26513</th>\n",
       "      <td>modare</td>\n",
       "      <td>pu slip on round toe womens casual flip flops ...</td>\n",
       "      <td>36,37,38,39,40</td>\n",
       "      <td>3499</td>\n",
       "      <td>2449</td>\n",
       "      <td>30% off</td>\n",
       "      <td>Footwear-Women</td>\n",
       "    </tr>\n",
       "    <tr>\n",
       "      <th>26518</th>\n",
       "      <td>modare</td>\n",
       "      <td>pu zipper womens casual boots - black</td>\n",
       "      <td>36,37,38,39,40</td>\n",
       "      <td>6999</td>\n",
       "      <td>4899</td>\n",
       "      <td>30% off</td>\n",
       "      <td>Footwear-Women</td>\n",
       "    </tr>\n",
       "    <tr>\n",
       "      <th>26538</th>\n",
       "      <td>shoetopia</td>\n",
       "      <td>synthetic womens casual slides - pink</td>\n",
       "      <td>36,37,38</td>\n",
       "      <td>999</td>\n",
       "      <td>499</td>\n",
       "      <td>50% off</td>\n",
       "      <td>Footwear-Women</td>\n",
       "    </tr>\n",
       "  </tbody>\n",
       "</table>\n",
       "<p>443 rows × 7 columns</p>\n",
       "</div>"
      ],
      "text/plain": [
       "       BrandName                                            Deatils  \\\n",
       "24          life  regular fit regular length denim womens jeans ...   \n",
       "148         life  printed cotton lycra round neck womens t-shirt...   \n",
       "280         life  printed cotton lycra round neck womens t-shirt...   \n",
       "356         life  skinny fit regular length cotton lycra womens ...   \n",
       "533         life  embroidered cotton blend round neck womens top...   \n",
       "...          ...                                                ...   \n",
       "26391  shoetopia             synthetic womens casual sandals - gold   \n",
       "26405    catwalk  polyurethane slipon womens casual loafers - brown   \n",
       "26513     modare  pu slip on round toe womens casual flip flops ...   \n",
       "26518     modare              pu zipper womens casual boots - black   \n",
       "26538  shoetopia              synthetic womens casual slides - pink   \n",
       "\n",
       "                                     Sizes   MRP  SellPrice Discount  \\\n",
       "24                       26,28,30,32,34,36  1999        999  50% off   \n",
       "148     Large,Medium,Small,X-Large,X-Small   699        349  50% off   \n",
       "280     Large,Medium,Small,X-Large,X-Small   699        349  50% off   \n",
       "356                      26,28,30,32,34,36   999        499  50% off   \n",
       "533     Large,Medium,Small,X-Large,X-Small  1299        649  50% off   \n",
       "...                                    ...   ...        ...      ...   \n",
       "26391                       37,38,39,40,41   999        699  30% off   \n",
       "26405                                5,6,7  2895       1447  50% off   \n",
       "26513                       36,37,38,39,40  3499       2449  30% off   \n",
       "26518                       36,37,38,39,40  6999       4899  30% off   \n",
       "26538                             36,37,38   999        499  50% off   \n",
       "\n",
       "                Category  \n",
       "24     Westernwear-Women  \n",
       "148    Westernwear-Women  \n",
       "280    Westernwear-Women  \n",
       "356    Westernwear-Women  \n",
       "533    Westernwear-Women  \n",
       "...                  ...  \n",
       "26391     Footwear-Women  \n",
       "26405     Footwear-Women  \n",
       "26513     Footwear-Women  \n",
       "26518     Footwear-Women  \n",
       "26538     Footwear-Women  \n",
       "\n",
       "[443 rows x 7 columns]"
      ]
     },
     "execution_count": 83,
     "metadata": {},
     "output_type": "execute_result"
    }
   ],
   "source": [
    "df.loc[df.duplicated()]"
   ]
  },
  {
   "cell_type": "code",
   "execution_count": 91,
   "id": "d5b75970",
   "metadata": {},
   "outputs": [
    {
     "data": {
      "text/plain": [
       "(18374, 7)"
      ]
     },
     "execution_count": 91,
     "metadata": {},
     "output_type": "execute_result"
    }
   ],
   "source": [
    "df.shape"
   ]
  },
  {
   "cell_type": "code",
   "execution_count": 89,
   "id": "76eae0b3",
   "metadata": {},
   "outputs": [
    {
     "data": {
      "text/html": [
       "<div>\n",
       "<style scoped>\n",
       "    .dataframe tbody tr th:only-of-type {\n",
       "        vertical-align: middle;\n",
       "    }\n",
       "\n",
       "    .dataframe tbody tr th {\n",
       "        vertical-align: top;\n",
       "    }\n",
       "\n",
       "    .dataframe thead th {\n",
       "        text-align: right;\n",
       "    }\n",
       "</style>\n",
       "<table border=\"1\" class=\"dataframe\">\n",
       "  <thead>\n",
       "    <tr style=\"text-align: right;\">\n",
       "      <th></th>\n",
       "      <th>BrandName</th>\n",
       "      <th>Deatils</th>\n",
       "      <th>Sizes</th>\n",
       "      <th>MRP</th>\n",
       "      <th>SellPrice</th>\n",
       "      <th>Discount</th>\n",
       "      <th>Category</th>\n",
       "    </tr>\n",
       "  </thead>\n",
       "  <tbody>\n",
       "    <tr>\n",
       "      <th>24</th>\n",
       "      <td>life</td>\n",
       "      <td>regular fit regular length denim womens jeans ...</td>\n",
       "      <td>26,28,30,32,34,36</td>\n",
       "      <td>1999</td>\n",
       "      <td>999</td>\n",
       "      <td>50% off</td>\n",
       "      <td>Westernwear-Women</td>\n",
       "    </tr>\n",
       "    <tr>\n",
       "      <th>148</th>\n",
       "      <td>life</td>\n",
       "      <td>printed cotton lycra round neck womens t-shirt...</td>\n",
       "      <td>Large,Medium,Small,X-Large,X-Small</td>\n",
       "      <td>699</td>\n",
       "      <td>349</td>\n",
       "      <td>50% off</td>\n",
       "      <td>Westernwear-Women</td>\n",
       "    </tr>\n",
       "    <tr>\n",
       "      <th>280</th>\n",
       "      <td>life</td>\n",
       "      <td>printed cotton lycra round neck womens t-shirt...</td>\n",
       "      <td>Large,Medium,Small,X-Large,X-Small</td>\n",
       "      <td>699</td>\n",
       "      <td>349</td>\n",
       "      <td>50% off</td>\n",
       "      <td>Westernwear-Women</td>\n",
       "    </tr>\n",
       "    <tr>\n",
       "      <th>356</th>\n",
       "      <td>life</td>\n",
       "      <td>skinny fit regular length cotton lycra womens ...</td>\n",
       "      <td>26,28,30,32,34,36</td>\n",
       "      <td>999</td>\n",
       "      <td>499</td>\n",
       "      <td>50% off</td>\n",
       "      <td>Westernwear-Women</td>\n",
       "    </tr>\n",
       "    <tr>\n",
       "      <th>533</th>\n",
       "      <td>life</td>\n",
       "      <td>embroidered cotton blend round neck womens top...</td>\n",
       "      <td>Large,Medium,Small,X-Large,X-Small</td>\n",
       "      <td>1299</td>\n",
       "      <td>649</td>\n",
       "      <td>50% off</td>\n",
       "      <td>Westernwear-Women</td>\n",
       "    </tr>\n",
       "    <tr>\n",
       "      <th>...</th>\n",
       "      <td>...</td>\n",
       "      <td>...</td>\n",
       "      <td>...</td>\n",
       "      <td>...</td>\n",
       "      <td>...</td>\n",
       "      <td>...</td>\n",
       "      <td>...</td>\n",
       "    </tr>\n",
       "    <tr>\n",
       "      <th>26391</th>\n",
       "      <td>shoetopia</td>\n",
       "      <td>synthetic womens casual sandals - gold</td>\n",
       "      <td>37,38,39,40,41</td>\n",
       "      <td>999</td>\n",
       "      <td>699</td>\n",
       "      <td>30% off</td>\n",
       "      <td>Footwear-Women</td>\n",
       "    </tr>\n",
       "    <tr>\n",
       "      <th>26405</th>\n",
       "      <td>catwalk</td>\n",
       "      <td>polyurethane slipon womens casual loafers - brown</td>\n",
       "      <td>5,6,7</td>\n",
       "      <td>2895</td>\n",
       "      <td>1447</td>\n",
       "      <td>50% off</td>\n",
       "      <td>Footwear-Women</td>\n",
       "    </tr>\n",
       "    <tr>\n",
       "      <th>26513</th>\n",
       "      <td>modare</td>\n",
       "      <td>pu slip on round toe womens casual flip flops ...</td>\n",
       "      <td>36,37,38,39,40</td>\n",
       "      <td>3499</td>\n",
       "      <td>2449</td>\n",
       "      <td>30% off</td>\n",
       "      <td>Footwear-Women</td>\n",
       "    </tr>\n",
       "    <tr>\n",
       "      <th>26518</th>\n",
       "      <td>modare</td>\n",
       "      <td>pu zipper womens casual boots - black</td>\n",
       "      <td>36,37,38,39,40</td>\n",
       "      <td>6999</td>\n",
       "      <td>4899</td>\n",
       "      <td>30% off</td>\n",
       "      <td>Footwear-Women</td>\n",
       "    </tr>\n",
       "    <tr>\n",
       "      <th>26538</th>\n",
       "      <td>shoetopia</td>\n",
       "      <td>synthetic womens casual slides - pink</td>\n",
       "      <td>36,37,38</td>\n",
       "      <td>999</td>\n",
       "      <td>499</td>\n",
       "      <td>50% off</td>\n",
       "      <td>Footwear-Women</td>\n",
       "    </tr>\n",
       "  </tbody>\n",
       "</table>\n",
       "<p>443 rows × 7 columns</p>\n",
       "</div>"
      ],
      "text/plain": [
       "       BrandName                                            Deatils  \\\n",
       "24          life  regular fit regular length denim womens jeans ...   \n",
       "148         life  printed cotton lycra round neck womens t-shirt...   \n",
       "280         life  printed cotton lycra round neck womens t-shirt...   \n",
       "356         life  skinny fit regular length cotton lycra womens ...   \n",
       "533         life  embroidered cotton blend round neck womens top...   \n",
       "...          ...                                                ...   \n",
       "26391  shoetopia             synthetic womens casual sandals - gold   \n",
       "26405    catwalk  polyurethane slipon womens casual loafers - brown   \n",
       "26513     modare  pu slip on round toe womens casual flip flops ...   \n",
       "26518     modare              pu zipper womens casual boots - black   \n",
       "26538  shoetopia              synthetic womens casual slides - pink   \n",
       "\n",
       "                                     Sizes   MRP  SellPrice Discount  \\\n",
       "24                       26,28,30,32,34,36  1999        999  50% off   \n",
       "148     Large,Medium,Small,X-Large,X-Small   699        349  50% off   \n",
       "280     Large,Medium,Small,X-Large,X-Small   699        349  50% off   \n",
       "356                      26,28,30,32,34,36   999        499  50% off   \n",
       "533     Large,Medium,Small,X-Large,X-Small  1299        649  50% off   \n",
       "...                                    ...   ...        ...      ...   \n",
       "26391                       37,38,39,40,41   999        699  30% off   \n",
       "26405                                5,6,7  2895       1447  50% off   \n",
       "26513                       36,37,38,39,40  3499       2449  30% off   \n",
       "26518                       36,37,38,39,40  6999       4899  30% off   \n",
       "26538                             36,37,38   999        499  50% off   \n",
       "\n",
       "                Category  \n",
       "24     Westernwear-Women  \n",
       "148    Westernwear-Women  \n",
       "280    Westernwear-Women  \n",
       "356    Westernwear-Women  \n",
       "533    Westernwear-Women  \n",
       "...                  ...  \n",
       "26391     Footwear-Women  \n",
       "26405     Footwear-Women  \n",
       "26513     Footwear-Women  \n",
       "26518     Footwear-Women  \n",
       "26538     Footwear-Women  \n",
       "\n",
       "[443 rows x 7 columns]"
      ]
     },
     "execution_count": 89,
     "metadata": {},
     "output_type": "execute_result"
    }
   ],
   "source": [
    "df.loc[df.duplicated()]"
   ]
  },
  {
   "cell_type": "code",
   "execution_count": null,
   "id": "1ebe95c7",
   "metadata": {},
   "outputs": [],
   "source": [
    "df.drop_duplicates(inplace=True)"
   ]
  },
  {
   "cell_type": "code",
   "execution_count": 93,
   "id": "83edd185",
   "metadata": {},
   "outputs": [
    {
     "data": {
      "text/plain": [
       "(17931, 7)"
      ]
     },
     "execution_count": 93,
     "metadata": {},
     "output_type": "execute_result"
    }
   ],
   "source": [
    "df.shape"
   ]
  },
  {
   "cell_type": "code",
   "execution_count": 94,
   "id": "b8de17fc",
   "metadata": {},
   "outputs": [
    {
     "data": {
      "text/html": [
       "<div>\n",
       "<style scoped>\n",
       "    .dataframe tbody tr th:only-of-type {\n",
       "        vertical-align: middle;\n",
       "    }\n",
       "\n",
       "    .dataframe tbody tr th {\n",
       "        vertical-align: top;\n",
       "    }\n",
       "\n",
       "    .dataframe thead th {\n",
       "        text-align: right;\n",
       "    }\n",
       "</style>\n",
       "<table border=\"1\" class=\"dataframe\">\n",
       "  <thead>\n",
       "    <tr style=\"text-align: right;\">\n",
       "      <th></th>\n",
       "      <th>BrandName</th>\n",
       "      <th>Deatils</th>\n",
       "      <th>Sizes</th>\n",
       "      <th>MRP</th>\n",
       "      <th>SellPrice</th>\n",
       "      <th>Discount</th>\n",
       "      <th>Category</th>\n",
       "    </tr>\n",
       "  </thead>\n",
       "  <tbody>\n",
       "  </tbody>\n",
       "</table>\n",
       "</div>"
      ],
      "text/plain": [
       "Empty DataFrame\n",
       "Columns: [BrandName, Deatils, Sizes, MRP, SellPrice, Discount, Category]\n",
       "Index: []"
      ]
     },
     "execution_count": 94,
     "metadata": {},
     "output_type": "execute_result"
    }
   ],
   "source": [
    "df.loc[df.duplicated()]"
   ]
  },
  {
   "cell_type": "markdown",
   "id": "864831dc",
   "metadata": {},
   "source": [
    "#### All duplicates are removed"
   ]
  },
  {
   "cell_type": "markdown",
   "id": "0acd6293",
   "metadata": {},
   "source": [
    "## visualization"
   ]
  },
  {
   "cell_type": "code",
   "execution_count": 109,
   "id": "de73fd79",
   "metadata": {},
   "outputs": [
    {
     "data": {
      "image/png": "[encoded data removed]",
      "text/plain": [
       "<Figure size 1440x576 with 2 Axes>"
      ]
     },
     "metadata": {
      "needs_background": "light"
     },
     "output_type": "display_data"
    }
   ],
   "source": [
    "plt.figure(figsize=(20,8))\n",
    "\n",
    "plt.subplot(1,2,1)\n",
    "plt.title('Price Distribution Plot')\n",
    "sns.distplot(df.SellPrice)\n",
    "\n",
    "plt.subplot(1,2,2)\n",
    "plt.title('Price Spread')\n",
    "sns.boxplot(y=df.SellPrice)\n",
    "\n",
    "plt.show()"
   ]
  },
  {
   "cell_type": "code",
   "execution_count": 310,
   "id": "868644e4",
   "metadata": {},
   "outputs": [
    {
     "data": {
      "image/png": "[encoded data removed]",
      "text/plain": [
       "<Figure size 1080x360 with 1 Axes>"
      ]
     },
     "metadata": {
      "needs_background": "light"
     },
     "output_type": "display_data"
    }
   ],
   "source": [
    "prices = df['SellPrice'].value_counts()\n",
    "plt.figure(figsize=(15,5))\n",
    "\n",
    "plt.grid()\n",
    "plt.plot(prices, '.', alpha=0.6, markersize=10)\n",
    "plt.title('Selling prices')\n",
    "plt.show()"
   ]
  },
  {
   "cell_type": "code",
   "execution_count": 112,
   "id": "1a17b7c3",
   "metadata": {},
   "outputs": [
    {
     "data": {
      "text/plain": [
       "count    17931.000000\n",
       "mean      1171.061792\n",
       "std        746.728662\n",
       "min        114.000000\n",
       "25%        667.000000\n",
       "50%        999.000000\n",
       "75%       1484.000000\n",
       "85%       1799.000000\n",
       "95%       2569.500000\n",
       "max      13599.000000\n",
       "Name: SellPrice, dtype: float64"
      ]
     },
     "execution_count": 112,
     "metadata": {},
     "output_type": "execute_result"
    }
   ],
   "source": [
    "df.SellPrice.describe(percentiles=[0.25,0.50,0.75,0.85,0.95])"
   ]
  },
  {
   "cell_type": "markdown",
   "id": "21435ee5",
   "metadata": {},
   "source": [
    "### Inferences:\n",
    "1. the plot seems to slightly right-skewed meaning the most price in dataset are high\n",
    "2. there is significant differnce between mean and median\n",
    "3. 95% of the selling price is less than rs 2570\n",
    "4. data points are slightly spread out from mean which indicates low variance in the price(85% of price are below\n",
    "   1799) whereas the remaning 15% are  between 1799 and 13599"
   ]
  },
  {
   "cell_type": "markdown",
   "id": "c7d528d8",
   "metadata": {},
   "source": [
    "### Brand that is costly / affordable to the customer"
   ]
  },
  {
   "cell_type": "code",
   "execution_count": 248,
   "id": "601cd1b8",
   "metadata": {},
   "outputs": [
    {
     "name": "stdout",
     "output_type": "stream",
     "text": [
      "global desi is most costly among all the Brands with category  Indianwear-Women at Rs 13599\n"
     ]
    }
   ],
   "source": [
    "## most costly\n",
    "max_price = df['SellPrice'].max()\n",
    "brand=df.loc[ max_price == df['SellPrice'],'BrandName'].iloc[0]\n",
    "categ=df.loc[max_price ==df['SellPrice'],'Category'].iloc[0]\n",
    "print(brand ,'is most costly among all the Brands with category ',categ ,'at Rs' ,max_price)"
   ]
  },
  {
   "cell_type": "code",
   "execution_count": null,
   "id": "9ab9235b",
   "metadata": {},
   "outputs": [],
   "source": []
  },
  {
   "cell_type": "code",
   "execution_count": null,
   "id": "e7fa35f9",
   "metadata": {},
   "outputs": [],
   "source": []
  },
  {
   "cell_type": "code",
   "execution_count": 300,
   "id": "84f6682f",
   "metadata": {},
   "outputs": [
    {
     "data": {
      "text/html": [
       "<div>\n",
       "<style scoped>\n",
       "    .dataframe tbody tr th:only-of-type {\n",
       "        vertical-align: middle;\n",
       "    }\n",
       "\n",
       "    .dataframe tbody tr th {\n",
       "        vertical-align: top;\n",
       "    }\n",
       "\n",
       "    .dataframe thead th {\n",
       "        text-align: right;\n",
       "    }\n",
       "</style>\n",
       "<table border=\"1\" class=\"dataframe\">\n",
       "  <thead>\n",
       "    <tr style=\"text-align: right;\">\n",
       "      <th></th>\n",
       "      <th>BrandName</th>\n",
       "      <th>Category</th>\n",
       "      <th>SellPrice</th>\n",
       "    </tr>\n",
       "  </thead>\n",
       "  <tbody>\n",
       "    <tr>\n",
       "      <th>44</th>\n",
       "      <td>global desi</td>\n",
       "      <td>Indianwear-Women</td>\n",
       "      <td>13599</td>\n",
       "    </tr>\n",
       "    <tr>\n",
       "      <th>146</th>\n",
       "      <td>w</td>\n",
       "      <td>Indianwear-Women</td>\n",
       "      <td>7499</td>\n",
       "    </tr>\n",
       "    <tr>\n",
       "      <th>102</th>\n",
       "      <td>new balance</td>\n",
       "      <td>Footwear-Women</td>\n",
       "      <td>6999</td>\n",
       "    </tr>\n",
       "    <tr>\n",
       "      <th>46</th>\n",
       "      <td>guess</td>\n",
       "      <td>Footwear-Women</td>\n",
       "      <td>6299</td>\n",
       "    </tr>\n",
       "    <tr>\n",
       "      <th>18</th>\n",
       "      <td>clarks</td>\n",
       "      <td>Footwear-Women</td>\n",
       "      <td>6299</td>\n",
       "    </tr>\n",
       "    <tr>\n",
       "      <th>37</th>\n",
       "      <td>forever new</td>\n",
       "      <td>Westernwear-Women</td>\n",
       "      <td>6000</td>\n",
       "    </tr>\n",
       "    <tr>\n",
       "      <th>12</th>\n",
       "      <td>biba</td>\n",
       "      <td>Indianwear-Women</td>\n",
       "      <td>5596</td>\n",
       "    </tr>\n",
       "    <tr>\n",
       "      <th>94</th>\n",
       "      <td>myshka</td>\n",
       "      <td>Indianwear-Women</td>\n",
       "      <td>5399</td>\n",
       "    </tr>\n",
       "    <tr>\n",
       "      <th>68</th>\n",
       "      <td>juniper</td>\n",
       "      <td>Indianwear-Women</td>\n",
       "      <td>5157</td>\n",
       "    </tr>\n",
       "    <tr>\n",
       "      <th>77</th>\n",
       "      <td>lawman watches</td>\n",
       "      <td>Watches-Women</td>\n",
       "      <td>4999</td>\n",
       "    </tr>\n",
       "  </tbody>\n",
       "</table>\n",
       "</div>"
      ],
      "text/plain": [
       "          BrandName           Category  SellPrice\n",
       "44      global desi   Indianwear-Women      13599\n",
       "146               w   Indianwear-Women       7499\n",
       "102     new balance     Footwear-Women       6999\n",
       "46            guess     Footwear-Women       6299\n",
       "18           clarks     Footwear-Women       6299\n",
       "37      forever new  Westernwear-Women       6000\n",
       "12             biba   Indianwear-Women       5596\n",
       "94           myshka   Indianwear-Women       5399\n",
       "68          juniper   Indianwear-Women       5157\n",
       "77   lawman watches      Watches-Women       4999"
      ]
     },
     "execution_count": 300,
     "metadata": {},
     "output_type": "execute_result"
    }
   ],
   "source": [
    "max_price=df.groupby(['BrandName','Category'])['SellPrice'].max().reset_index().sort_values(by='SellPrice',ascending=False).head(10)\n",
    "max_price"
   ]
  },
  {
   "cell_type": "code",
   "execution_count": 295,
   "id": "16ea6753",
   "metadata": {
    "scrolled": false
   },
   "outputs": [
    {
     "data": {
      "image/png": "[encoded data removed]",
      "text/plain": [
       "<Figure size 1800x576 with 2 Axes>"
      ]
     },
     "metadata": {
      "needs_background": "light"
     },
     "output_type": "display_data"
    }
   ],
   "source": [
    "max_price=df.groupby(['BrandName','Category'])['SellPrice'].max().reset_index().sort_values(by='SellPrice',ascending=False).head(10)\n",
    "plt.figure(figsize=(25,8))\n",
    "\n",
    "plt.subplot(1,2,1)\n",
    "plt.title('Top 10 costly Brand')\n",
    "sns.barplot(x='BrandName' , y='SellPrice' ,data=max_price)\n",
    "\n",
    "plt.subplot(1,2,2)\n",
    "plt.title('Top costly Category')\n",
    "sns.barplot(x='Category' , y='SellPrice' ,data=max_price)\n",
    "\n",
    "\n",
    "plt.show()\n"
   ]
  },
  {
   "cell_type": "markdown",
   "id": "865e7013",
   "metadata": {},
   "source": [
    "### Inferences :\n",
    "1. Most Costier Brand is global desi \n",
    "2. Most costier Category is Indianwear"
   ]
  },
  {
   "cell_type": "code",
   "execution_count": 298,
   "id": "5809945a",
   "metadata": {},
   "outputs": [
    {
     "data": {
      "text/html": [
       "<div>\n",
       "<style scoped>\n",
       "    .dataframe tbody tr th:only-of-type {\n",
       "        vertical-align: middle;\n",
       "    }\n",
       "\n",
       "    .dataframe tbody tr th {\n",
       "        vertical-align: top;\n",
       "    }\n",
       "\n",
       "    .dataframe thead th {\n",
       "        text-align: right;\n",
       "    }\n",
       "</style>\n",
       "<table border=\"1\" class=\"dataframe\">\n",
       "  <thead>\n",
       "    <tr style=\"text-align: right;\">\n",
       "      <th></th>\n",
       "      <th>BrandName</th>\n",
       "      <th>Category</th>\n",
       "      <th>SellPrice</th>\n",
       "    </tr>\n",
       "  </thead>\n",
       "  <tbody>\n",
       "    <tr>\n",
       "      <th>19</th>\n",
       "      <td>clovia</td>\n",
       "      <td>Lingerie&amp;Nightwear-Women</td>\n",
       "      <td>114</td>\n",
       "    </tr>\n",
       "    <tr>\n",
       "      <th>58</th>\n",
       "      <td>insense</td>\n",
       "      <td>Lingerie&amp;Nightwear-Women</td>\n",
       "      <td>119</td>\n",
       "    </tr>\n",
       "    <tr>\n",
       "      <th>100</th>\n",
       "      <td>nayomi</td>\n",
       "      <td>Lingerie&amp;Nightwear-Women</td>\n",
       "      <td>149</td>\n",
       "    </tr>\n",
       "    <tr>\n",
       "      <th>29</th>\n",
       "      <td>enamor</td>\n",
       "      <td>Lingerie&amp;Nightwear-Women</td>\n",
       "      <td>150</td>\n",
       "    </tr>\n",
       "    <tr>\n",
       "      <th>123</th>\n",
       "      <td>soie</td>\n",
       "      <td>Lingerie&amp;Nightwear-Women</td>\n",
       "      <td>192</td>\n",
       "    </tr>\n",
       "    <tr>\n",
       "      <th>148</th>\n",
       "      <td>wacoal</td>\n",
       "      <td>Lingerie&amp;Nightwear-Women</td>\n",
       "      <td>197</td>\n",
       "    </tr>\n",
       "    <tr>\n",
       "      <th>57</th>\n",
       "      <td>infuse</td>\n",
       "      <td>Westernwear-Women</td>\n",
       "      <td>199</td>\n",
       "    </tr>\n",
       "    <tr>\n",
       "      <th>5</th>\n",
       "      <td>altlife</td>\n",
       "      <td>Westernwear-Women</td>\n",
       "      <td>199</td>\n",
       "    </tr>\n",
       "    <tr>\n",
       "      <th>56</th>\n",
       "      <td>infuse</td>\n",
       "      <td>Lingerie&amp;Nightwear-Women</td>\n",
       "      <td>199</td>\n",
       "    </tr>\n",
       "    <tr>\n",
       "      <th>59</th>\n",
       "      <td>insense</td>\n",
       "      <td>Westernwear-Women</td>\n",
       "      <td>199</td>\n",
       "    </tr>\n",
       "  </tbody>\n",
       "</table>\n",
       "</div>"
      ],
      "text/plain": [
       "    BrandName                  Category  SellPrice\n",
       "19     clovia  Lingerie&Nightwear-Women        114\n",
       "58    insense  Lingerie&Nightwear-Women        119\n",
       "100    nayomi  Lingerie&Nightwear-Women        149\n",
       "29     enamor  Lingerie&Nightwear-Women        150\n",
       "123      soie  Lingerie&Nightwear-Women        192\n",
       "148    wacoal  Lingerie&Nightwear-Women        197\n",
       "57     infuse         Westernwear-Women        199\n",
       "5     altlife         Westernwear-Women        199\n",
       "56     infuse  Lingerie&Nightwear-Women        199\n",
       "59    insense         Westernwear-Women        199"
      ]
     },
     "execution_count": 298,
     "metadata": {},
     "output_type": "execute_result"
    }
   ],
   "source": [
    "min_price=df.groupby(['BrandName','Category'])['SellPrice'].min().reset_index().sort_values(by='SellPrice',ascending=True).head(10)\n",
    "min_price"
   ]
  },
  {
   "cell_type": "code",
   "execution_count": 299,
   "id": "6286f842",
   "metadata": {
    "scrolled": true
   },
   "outputs": [
    {
     "data": {
      "image/png": "[encoded data removed]",
      "text/plain": [
       "<Figure size 1800x576 with 2 Axes>"
      ]
     },
     "metadata": {
      "needs_background": "light"
     },
     "output_type": "display_data"
    }
   ],
   "source": [
    "plt.figure(figsize=(25,8))\n",
    "\n",
    "plt.subplot(1,2,1)\n",
    "plt.title('Top 10 cheap Brand')\n",
    "sns.barplot(x='BrandName' , y='SellPrice' ,data=min_price)\n",
    "\n",
    "plt.subplot(1,2,2)\n",
    "plt.title('Top cheap Category')\n",
    "sns.barplot(x='Category' , y='SellPrice' ,data=min_price)\n",
    "\n",
    "\n",
    "plt.show()"
   ]
  },
  {
   "cell_type": "markdown",
   "id": "822de821",
   "metadata": {},
   "source": [
    "### Inferences :\n",
    "1. Most cheapest Brand is clovia\n",
    "2. Most cheapest Category is Lingeries"
   ]
  },
  {
   "cell_type": "code",
   "execution_count": null,
   "id": "279adc97",
   "metadata": {},
   "outputs": [],
   "source": []
  },
  {
   "cell_type": "code",
   "execution_count": 527,
   "id": "140f11e9",
   "metadata": {},
   "outputs": [
    {
     "data": {
      "image/png": "[encoded data removed]",
      "text/plain": [
       "<Figure size 1080x432 with 1 Axes>"
      ]
     },
     "metadata": {
      "needs_background": "light"
     },
     "output_type": "display_data"
    }
   ],
   "source": [
    "plt.figure(figsize=(15,6))\n",
    "yearly_opening_rank = df.groupby(['SellPrice','BrandName']).BrandName.count().head(20).plot(kind = 'bar', color ='#1a55FF')\n",
    "plt.show()\n"
   ]
  },
  {
   "cell_type": "markdown",
   "id": "6f743594",
   "metadata": {},
   "source": [
    "### Inferences : \n",
    "The above plots gives us an estimated range of clothes i.e between Rs 500 to 2500. While the plot in Yellow has slight lower range ofvalues certainly due to brands having Lingerie type of women wear."
   ]
  },
  {
   "cell_type": "code",
   "execution_count": null,
   "id": "65edd857",
   "metadata": {},
   "outputs": [],
   "source": []
  },
  {
   "cell_type": "code",
   "execution_count": 363,
   "id": "db555751",
   "metadata": {
    "scrolled": true
   },
   "outputs": [
    {
     "data": {
      "image/png": "[encoded data removed]",
      "text/plain": [
       "<Figure size 1800x432 with 2 Axes>"
      ]
     },
     "metadata": {
      "needs_background": "light"
     },
     "output_type": "display_data"
    }
   ],
   "source": [
    "optional_clothing=df.groupby(['Category']).count().reset_index()\n",
    "\n",
    "plt.figure(figsize=(25,6))\n",
    "\n",
    "plt.subplot(1,2,1)\n",
    "sns.barplot(x='Category' , y='BrandName' ,data=optional_clothing)\n",
    "\n",
    "optional_clothing=df['Category'].value_counts()\n",
    "\n",
    "plt.subplot(1,2,2)\n",
    "plt.plot(optional_clothing,'.', alpha=0.6, markersize=50)\n",
    "plt.plot(optional_clothing)\n",
    "plt.show()"
   ]
  },
  {
   "cell_type": "markdown",
   "id": "be559cbe",
   "metadata": {},
   "source": [
    "### Inferences :\n",
    " Westernwear has maximum options for women wear "
   ]
  },
  {
   "cell_type": "code",
   "execution_count": null,
   "id": "9cc5a277",
   "metadata": {},
   "outputs": [],
   "source": []
  },
  {
   "cell_type": "code",
   "execution_count": 417,
   "id": "1233b75a",
   "metadata": {},
   "outputs": [
    {
     "data": {
      "image/png": "[encoded data removed]",
      "text/plain": [
       "<Figure size 1800x360 with 2 Axes>"
      ]
     },
     "metadata": {
      "needs_background": "light"
     },
     "output_type": "display_data"
    }
   ],
   "source": [
    "plt.figure(figsize=(25,5))\n",
    "\n",
    "plt.subplot(1,2,1)\n",
    "plt.title('BrandName and Discount')\n",
    "df.groupby(['BrandName'])['Discount'].value_counts().plot()\n",
    "\n",
    "plt.subplot(1,2,2)\n",
    "plt.title('Maxium count of discount')\n",
    "df['Discount'].value_counts().head(100).plot(kind='bar')\n",
    "plt.show()"
   ]
  },
  {
   "cell_type": "markdown",
   "id": "c48007cc",
   "metadata": {},
   "source": [
    "### Inferences:\n",
    "From the above plot, we can say that Most brands tuning it in about max of 50% to min of 10%."
   ]
  },
  {
   "cell_type": "code",
   "execution_count": null,
   "id": "b33928b4",
   "metadata": {},
   "outputs": [],
   "source": []
  },
  {
   "cell_type": "code",
   "execution_count": 476,
   "id": "d8fedad3",
   "metadata": {
    "scrolled": true
   },
   "outputs": [
    {
     "data": {
      "image/png": "[encoded data removed]",
      "text/plain": [
       "<Figure size 1800x432 with 1 Axes>"
      ]
     },
     "metadata": {
      "needs_background": "light"
     },
     "output_type": "display_data"
    }
   ],
   "source": [
    "plt.figure(figsize=(25,6))\n",
    "plt.title('Maxium Discount on Category')\n",
    "Dis=df.groupby(['Category'])['Discount'].max()\n",
    "plt.grid(color='black',linewidth = 0.25)\n",
    "plt.plot(Dis,'.', alpha=0.6, markersize=50,marker='o')\n",
    "plt.plot(Dis,color='red',marker='+')\n",
    "plt.show()"
   ]
  },
  {
   "cell_type": "markdown",
   "id": "3f6e730f",
   "metadata": {},
   "source": [
    "### Inferences:\n",
    "From the above plot, we can say that maximum Discount is given on IndianWear "
   ]
  },
  {
   "cell_type": "code",
   "execution_count": null,
   "id": "ce3f3fd6",
   "metadata": {},
   "outputs": [],
   "source": []
  },
  {
   "cell_type": "code",
   "execution_count": 477,
   "id": "bd715bf7",
   "metadata": {},
   "outputs": [
    {
     "data": {
      "text/plain": [
       "Index(['BrandName', 'Deatils', 'Sizes', 'MRP', 'SellPrice', 'Discount',\n",
       "       'Category'],\n",
       "      dtype='object')"
      ]
     },
     "execution_count": 477,
     "metadata": {},
     "output_type": "execute_result"
    }
   ],
   "source": [
    "df.columns"
   ]
  },
  {
   "cell_type": "code",
   "execution_count": 524,
   "id": "95cb3e5e",
   "metadata": {},
   "outputs": [
    {
     "data": {
      "text/plain": [
       "<matplotlib.legend.Legend at 0x24914cf7700>"
      ]
     },
     "execution_count": 524,
     "metadata": {},
     "output_type": "execute_result"
    },
    {
     "data": {
      "image/png": "[encoded data removed]",
      "text/plain": [
       "<Figure size 1800x360 with 2 Axes>"
      ]
     },
     "metadata": {
      "needs_background": "light"
     },
     "output_type": "display_data"
    }
   ],
   "source": [
    "plt.figure(figsize=(25,5))\n",
    "\n",
    "plt.subplot(1,2,1)\n",
    "plt.title('BrandName and Sizes')\n",
    "df.groupby(['BrandName','Sizes']).Sizes.count().sort_values(ascending=False).head(10).plot(kind='bar',color='#bcbd22')\n",
    "\n",
    "plt.subplot(1,2,2)\n",
    "plt.title('Sizes Count')\n",
    "df['Sizes'].value_counts().head(10).plot(kind='bar',color='#e377c2')\n",
    "plt.legend()"
   ]
  },
  {
   "cell_type": "markdown",
   "id": "b04e8e21",
   "metadata": {},
   "source": [
    "#### As fashion industry is progressing, the brands are trying their best to fit into every customer size from small to XL sizes as well. Thus, from the above analysis it is clear that though the gap is shortneing but their is still high demand for sizes in Small,X-Small, Medium, Large and X-Large"
   ]
  },
  {
   "cell_type": "code",
   "execution_count": null,
   "id": "fe3b39d0",
   "metadata": {},
   "outputs": [],
   "source": []
  },
  {
   "cell_type": "code",
   "execution_count": null,
   "id": "9d23f778",
   "metadata": {},
   "outputs": [],
   "source": []
  },
  {
   "cell_type": "code",
   "execution_count": null,
   "id": "352497a8",
   "metadata": {},
   "outputs": [],
   "source": []
  },
  {
   "cell_type": "code",
   "execution_count": null,
   "id": "8db9b4fa",
   "metadata": {},
   "outputs": [],
   "source": []
  },
  {
   "cell_type": "code",
   "execution_count": null,
   "id": "f9d3bed6",
   "metadata": {},
   "outputs": [],
   "source": []
  },
  {
   "cell_type": "code",
   "execution_count": null,
   "id": "7ac1c48c",
   "metadata": {},
   "outputs": [],
   "source": []
  },
  {
   "cell_type": "code",
   "execution_count": null,
   "id": "dee89e23",
   "metadata": {},
   "outputs": [],
   "source": []
  },
  {
   "cell_type": "code",
   "execution_count": null,
   "id": "dfd77525",
   "metadata": {},
   "outputs": [],
   "source": []
  },
  {
   "cell_type": "code",
   "execution_count": null,
   "id": "090c11b8",
   "metadata": {},
   "outputs": [],
   "source": []
  },
  {
   "cell_type": "code",
   "execution_count": null,
   "id": "f57096a5",
   "metadata": {},
   "outputs": [],
   "source": []
  },
  {
   "cell_type": "code",
   "execution_count": null,
   "id": "c9898975",
   "metadata": {},
   "outputs": [],
   "source": []
  }
 ],
 "metadata": {
  "kernelspec": {
   "display_name": "Python 3 (ipykernel)",
   "language": "python",
   "name": "python3"
  },
  "language_info": {
   "codemirror_mode": {
    "name": "ipython",
    "version": 3
   },
   "file_extension": ".py",
   "mimetype": "text/x-python",
   "name": "python",
   "nbconvert_exporter": "python",
   "pygments_lexer": "ipython3",
   "version": "3.9.12"
  }
 },
 "nbformat": 4,
 "nbformat_minor": 5
}
